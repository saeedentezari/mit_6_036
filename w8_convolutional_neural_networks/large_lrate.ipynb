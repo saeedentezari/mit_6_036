{
 "cells": [
  {
   "cell_type": "code",
   "execution_count": 115,
   "metadata": {},
   "outputs": [],
   "source": [
    "import numpy as np\n",
    "from keras.datasets import mnist\n",
    "from my_code_for_hw7copy import *   # copy my_code_for_hw7.py in the file directory\n",
    "import matplotlib.pyplot as plt"
   ]
  },
  {
   "cell_type": "code",
   "execution_count": 116,
   "metadata": {},
   "outputs": [],
   "source": [
    "# load the mnist dataset\n",
    "path = '~/mit_6_036/w8_convolutional_neural_networks/mnist.npz'     # download mnist dataset and put it into the current directory\n",
    "(X_train, y1), (X_val, y2) = mnist.load_data(path)"
   ]
  },
  {
   "cell_type": "code",
   "execution_count": 117,
   "metadata": {},
   "outputs": [],
   "source": [
    "# pick just 0 and 1 data\n",
    "mask = np.isin(y1, [0, 1])\n",
    "X_train = X_train[mask]\n",
    "y1 = y1[mask]\n",
    "# make y1 as one-hot vectors\\n\",\n",
    "y1 = for_softmax(y1)"
   ]
  },
  {
   "cell_type": "code",
   "execution_count": 118,
   "metadata": {},
   "outputs": [
    {
     "data": {
      "text/plain": [
       "(784, 12665)"
      ]
     },
     "execution_count": 118,
     "metadata": {},
     "output_type": "execute_result"
    }
   ],
   "source": [
    "# make the shape of input compatible for sgd\n",
    "N, _, _ = X_train.shape\n",
    "X_train_input = np.hstack(X_train.reshape(N, -1, 1))\n",
    "X_train_input.shape"
   ]
  },
  {
   "cell_type": "code",
   "execution_count": 119,
   "metadata": {},
   "outputs": [
    {
     "data": {
      "text/plain": [
       "(784, 2115)"
      ]
     },
     "execution_count": 119,
     "metadata": {},
     "output_type": "execute_result"
    }
   ],
   "source": [
    "# do the same process on the validation set\n",
    "mask = np.isin(y2, [0, 1])\n",
    "X_val = X_val[mask]\n",
    "y2 = y2[mask]\n",
    "N, _, _ = X_val.shape\n",
    "X_val_input = np.hstack(X_val.reshape(N, -1, 1))\n",
    "X_val_input.shape"
   ]
  },
  {
   "cell_type": "code",
   "execution_count": 120,
   "metadata": {},
   "outputs": [],
   "source": [
    "# define the NN object\n",
    "# nn_core = Sequential([Linear(784, 32), ReLU(), Linear(32, 4), ReLU(), Linear(4,2), ReLU(), SoftMax()], NLL())\n",
    "nn_core = Sequential([Linear(784, 32), ReLU(), Linear(32, 4), ReLU(), Linear(4,2), SoftMax()], NLL())"
   ]
  },
  {
   "cell_type": "code",
   "execution_count": 121,
   "metadata": {},
   "outputs": [],
   "source": [
    "# train\n",
    "nn_core.sgd(X_train_input, y1, iters=400, lrate=1e-3, batch_size=1, plot_loss=False)"
   ]
  },
  {
   "cell_type": "code",
   "execution_count": 122,
   "metadata": {},
   "outputs": [],
   "source": [
    "# pick the last and the first linear modules to look them up\n",
    "first_lin, last_lin = nn_core.modules[0], nn_core.modules[4]"
   ]
  },
  {
   "cell_type": "code",
   "execution_count": 123,
   "metadata": {},
   "outputs": [
    {
     "name": "stdout",
     "output_type": "stream",
     "text": [
      "first_lin weights outgoing from the first input unit\n",
      " [-0.03710352 -0.01279151 -0.00066906  0.02848549  0.01117629  0.06312575\n",
      "  0.08362644  0.02318115 -0.02614829  0.03898057 -0.00240342  0.06350502\n",
      " -0.04616841  0.03563568  0.02290778  0.00989785 -0.02200429  0.03904094\n",
      "  0.03255775  0.03905041 -0.03484943  0.05172212  0.018802   -0.06008621\n",
      "  0.04655549 -0.02495601 -0.0474606  -0.02605828  0.02936642 -0.03011968\n",
      "  0.02039132  0.02753141]\n",
      "first_lin biases\n",
      " [[-1.18228875e-04  1.83697783e-04 -5.91836395e-05 -1.40412100e-04\n",
      "   1.50770881e-04  0.00000000e+00 -2.23919817e-04  4.68520822e-06\n",
      "   1.18593717e-05 -1.39943919e-04  1.82585025e-10  1.46197753e-04\n",
      "   9.43104201e-06 -1.18630220e-05  8.02980184e-06  2.17569345e-05\n",
      "   0.00000000e+00  1.62292348e-05  5.33877705e-05 -8.43473297e-05\n",
      "  -8.61047081e-05  9.75975321e-05  2.13603378e-05 -1.37030309e-04\n",
      "  -9.74724274e-05  4.59289313e-05 -4.22888856e-05 -1.02958589e-05\n",
      "  -1.34551386e-05  1.25525793e-15 -1.08352134e-04  0.00000000e+00]]\n",
      "last_lin weights\n",
      " [[-0.34335752 -0.29512358]\n",
      " [-0.77548447 -0.62223122]\n",
      " [ 0.12406742 -0.72788953]\n",
      " [-0.28419442 -0.15469822]]\n",
      "last_lin biases\n",
      " [[ 0.01712432 -0.01712432]]\n"
     ]
    }
   ],
   "source": [
    "# first let's look at their final weights\n",
    "print('first_lin weights outgoing from the first input unit\\n', first_lin.W[0, :])\n",
    "print('first_lin biases\\n', first_lin.W0.T)\n",
    "print('last_lin weights\\n', last_lin.W)\n",
    "print('last_lin biases\\n', last_lin.W0.T)"
   ]
  },
  {
   "cell_type": "code",
   "execution_count": 124,
   "metadata": {},
   "outputs": [
    {
     "data": {
      "text/plain": [
       "[<matplotlib.lines.Line2D at 0x120e60f70>]"
      ]
     },
     "execution_count": 124,
     "metadata": {},
     "output_type": "execute_result"
    },
    {
     "data": {
      "image/png": "[encoded data removed]",
      "text/plain": [
       "<Figure size 432x288 with 1 Axes>"
      ]
     },
     "metadata": {
      "needs_background": "light"
     },
     "output_type": "display_data"
    }
   ],
   "source": [
    "# plot weight changes magnitude\n",
    "plt.plot(last_lin.delW)"
   ]
  },
  {
   "cell_type": "code",
   "execution_count": 125,
   "metadata": {},
   "outputs": [
    {
     "data": {
      "text/plain": [
       "[<matplotlib.lines.Line2D at 0x120ed1160>]"
      ]
     },
     "execution_count": 125,
     "metadata": {},
     "output_type": "execute_result"
    },
    {
     "data": {
      "image/png": "[encoded data removed]",
      "text/plain": [
       "<Figure size 432x288 with 1 Axes>"
      ]
     },
     "metadata": {
      "needs_background": "light"
     },
     "output_type": "display_data"
    }
   ],
   "source": [
    "# plot bias changes magnitude\n",
    "plt.plot(last_lin.delW0)"
   ]
  },
  {
   "cell_type": "code",
   "execution_count": 126,
   "metadata": {},
   "outputs": [
    {
     "name": "stdout",
     "output_type": "stream",
     "text": [
      "first_lin\n",
      "\n",
      "first 10 changes in W (magnitude)\n",
      " [1.5396406259138808e-16, 0.10231468160369053, 0.0, 1.0757587850221069, 3.644742371718039e-05, 0.5773663108586639, 0.0, 0.0, 0.0, 0.0]\n",
      "last 10 changes in W\n",
      " [0.0, 0.0, 0.0, 0.0, 0.0, 0.0, 0.0, 0.0, 0.0, 0.0]\n",
      "first 10 changes in W0 (magnitude)\n",
      " [7.117466808859708e-20, 5.179599270502067e-05, 0.0, 0.0003621520410161033, 2.1588352081933266e-08, 0.0003174856007338887, 0.0, 0.0, 0.0, 0.0]\n",
      "last 10 changes in W0\n",
      " [0.0, 0.0, 0.0, 0.0, 0.0, 0.0, 0.0, 0.0, 0.0, 0.0]\n",
      "\n",
      "last_lin\n",
      "\n",
      "first 10 changes in W (magnitude)\n",
      " [0.0, 0.0008627047104541709, 0.0, 0.16220302325996827, 5.483955188103073e-06, 0.020241294915275716, 0.0, 0.0, 0.0, 0.0]\n",
      "last 10 changes in W\n",
      " [0.0, 0.0, 0.0, 0.0, 0.0, 0.0, 0.0, 0.0, 0.0, 0.0]\n",
      "first 10 changes in W0 (magnitude)\n",
      " [1.936489335103478e-19, 0.0002656232205328815, 0.0007072395927952524, 0.001414213562373095, 1.1145499747079685e-07, 0.0012448436420660564, 0.000707412218586337, 0.0007071550498769798, 0.0007068014723710888, 0.0007064480718064727]\n",
      "last 10 changes in W0\n",
      " [0.0007192727073925836, 0.0007189131743831351, 0.0007185538149867043, 0.0006960189330619886, 0.0006956710118774077, 0.0007188902922294616, 0.000695682618484122, 0.0006953348707612658, 0.0007192262598161834, 0.0006953468131483311]\n"
     ]
    }
   ],
   "source": [
    "# look at the first and last changes in weights\n",
    "print('first_lin\\n')\n",
    "print('first 10 changes in W (magnitude)\\n', first_lin.delW[:10])\n",
    "print('last 10 changes in W\\n', first_lin.delW[-10:])\n",
    "print('first 10 changes in W0 (magnitude)\\n', first_lin.delW0[:10])\n",
    "print('last 10 changes in W0\\n', first_lin.delW0[-10:])\n",
    "\n",
    "print('\\nlast_lin\\n')\n",
    "print('first 10 changes in W (magnitude)\\n', last_lin.delW[:10])\n",
    "print('last 10 changes in W\\n', last_lin.delW[-10:])\n",
    "print('first 10 changes in W0 (magnitude)\\n', last_lin.delW0[:10])\n",
    "print('last 10 changes in W0\\n', last_lin.delW0[-10:])"
   ]
  },
  {
   "cell_type": "code",
   "execution_count": 127,
   "metadata": {},
   "outputs": [
    {
     "name": "stdout",
     "output_type": "stream",
     "text": [
      "last_lin\n",
      "\n",
      "first Z's\n",
      " [[-9.27463294e+01 -3.00189224e+00 -1.87823980e-04 -1.14540108e+02]\n",
      " [-5.63665804e+01 -1.53768040e+00  1.87823980e-04 -5.95961250e+01]]\n",
      "first Y's\n",
      " [[0 0 1 1]\n",
      " [1 1 0 0]]\n",
      "last Z's\n",
      " [[ 0.01615761  0.01664953  0.01714121  0.01663264]\n",
      " [-0.01615761 -0.01664953 -0.01714121 -0.01663264]]\n",
      "last Y's\n",
      " [[1 1 0 1]\n",
      " [0 0 1 0]]\n"
     ]
    }
   ],
   "source": [
    "# look at the first and last Z's of the last layer, and also associated Y's, column-wise\n",
    "loss = nn_core.loss\n",
    "print('last_lin\\n')\n",
    "print('first Z\\'s\\n', np.hstack(last_lin.Zs[:4]))\n",
    "print('first Y\\'s\\n', np.hstack(loss.Ys[:4]))\n",
    "print('last Z\\'s\\n', np.hstack(last_lin.Zs[-4:]))\n",
    "print('last Y\\'s\\n', np.hstack(loss.Ys[-4:]))"
   ]
  },
  {
   "cell_type": "code",
   "execution_count": 128,
   "metadata": {},
   "outputs": [
    {
     "name": "stdout",
     "output_type": "stream",
     "text": [
      "last_lin\n",
      "\n",
      "first dLdZ's\n",
      " [[ 1.58663032e-16  1.87823980e-01 -5.00093912e-01 -1.00000000e+00]\n",
      " [-1.11022302e-16 -1.87823980e-01  5.00093912e-01  1.00000000e+00]]\n",
      "last dLdZ's\n",
      " [[-0.4919219  -0.491676    0.50856977 -0.49168445]\n",
      " [ 0.4919219   0.491676   -0.50856977  0.49168445]]\n"
     ]
    }
   ],
   "source": [
    "# look at the first and last dLdZ's of the last layer, column-wise\n",
    "print('last_lin\\n')\n",
    "print('first dLdZ\\'s\\n', np.hstack(last_lin.dLdZs[:4]))\n",
    "print('last dLdZ\\'s\\n', np.hstack(last_lin.dLdZs[-4:]))"
   ]
  },
  {
   "cell_type": "code",
   "execution_count": 129,
   "metadata": {},
   "outputs": [
    {
     "data": {
      "text/plain": [
       "0.46808510638297873"
      ]
     },
     "execution_count": 129,
     "metadata": {},
     "output_type": "execute_result"
    }
   ],
   "source": [
    "# test accuracy on validation dataset\n",
    "# notice that the testing should be done after extracting stored values of the learning process from NN\n",
    "# because by testing, we should forward validation dataset through NN and the stored values will be changed\n",
    "Ypred_raw = nn_core.forward(X_val_input)\n",
    "Ypred_tresh = np.argmax(Ypred_raw, axis=0)\n",
    "np.mean(Ypred_tresh == y2)"
   ]
  },
  {
   "attachments": {},
   "cell_type": "markdown",
   "metadata": {},
   "source": [
    "\n",
    "There is some interesting points to remark!\n",
    "\n",
    "1. When we set the learning rate to 1e-3, which is a relatively high learning rate, in the first steps it might jump on the plateau of the border of loss surface, which the magnitude of gradient is almost zero there and slow down the learning process, such that it mimics the behavior of a local minimum.<br><br>\n",
    "How have I found out that this is a plateau, not a local minimum?\n",
    "<br><br>\n",
    "Notice that learning algorithm here is mini-batch sgd, which probably allows to escape from local minima. But if the point is on a plateau, mini-batch can't do anything for it, because gradient of every possible mini-batches on the plateaus is almost zero, too. On the plateaus, sgd will move but dramatically slow.\n",
    "<br><br>\n",
    "Such problems also can occur around the saddle points and can be addressed [here](https://ganguli-gang.stanford.edu/pdf/14.SaddlePoint.NIPS.pdf).\n",
    "\n",
    "2. In very high learning rates such that 1e-2 or bigger, another problem is overflow error encounters in the last module, SoftMax, when exponentiating big values of Z.\n",
    "<br>\n",
    "It occurs in the second forward, because the first backward made the parameters very big (and hence the unit values in the second forward can be big also) and the error make all the parameters to value np.nan.\n"
   ]
  }
 ],
 "metadata": {
  "kernelspec": {
   "display_name": "Python 3",
   "language": "python",
   "name": "python3"
  },
  "language_info": {
   "codemirror_mode": {
    "name": "ipython",
    "version": 3
   },
   "file_extension": ".py",
   "mimetype": "text/x-python",
   "name": "python",
   "nbconvert_exporter": "python",
   "pygments_lexer": "ipython3",
   "version": "3.9.16"
  },
  "orig_nbformat": 4,
  "vscode": {
   "interpreter": {
    "hash": "397704579725e15f5c7cb49fe5f0341eb7531c82d19f2c29d197e8b64ab5776b"
   }
  }
 },
 "nbformat": 4,
 "nbformat_minor": 2
}
